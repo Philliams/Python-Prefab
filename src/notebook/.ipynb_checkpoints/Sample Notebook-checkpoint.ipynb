{
 "cells": [
  {
   "cell_type": "markdown",
   "id": "68e56930-ed9c-4856-b090-29f6bbcad017",
   "metadata": {},
   "source": [
    "# Sample Notebook\n",
    "\n",
    "This is a dummy notebook to demonstrate how to import code locally and use it interactively. First we need to add the path to the source code:"
   ]
  },
  {
   "cell_type": "code",
   "execution_count": 4,
   "id": "1a3488af-d665-42b5-a7bb-54c2cde5050f",
   "metadata": {},
   "outputs": [],
   "source": [
    "import os\n",
    "import sys\n",
    "module_path = os.path.abspath(os.path.join('..'))\n",
    "if module_path not in sys.path:\n",
    "    sys.path.append(module_path)"
   ]
  },
  {
   "cell_type": "markdown",
   "id": "ad4e3526-ce13-4ff9-9a57-d25d007e9a6b",
   "metadata": {},
   "source": [
    "Then we can import the module and call functions!"
   ]
  },
  {
   "cell_type": "code",
   "execution_count": 5,
   "id": "78b98c84-12eb-4a23-ba5c-2ca309e2b945",
   "metadata": {},
   "outputs": [
    {
     "name": "stdout",
     "output_type": "stream",
     "text": [
      "This works!\n"
     ]
    }
   ],
   "source": [
    "import backend.main_backend as main_be\n",
    "input_str = \"This works!\"\n",
    "output_str = main_be.dummy_function_back_end(input_str)\n",
    "print(output_str)"
   ]
  }
 ],
 "metadata": {
  "kernelspec": {
   "display_name": "Python 3 (ipykernel)",
   "language": "python",
   "name": "python3"
  },
  "language_info": {
   "codemirror_mode": {
    "name": "ipython",
    "version": 3
   },
   "file_extension": ".py",
   "mimetype": "text/x-python",
   "name": "python",
   "nbconvert_exporter": "python",
   "pygments_lexer": "ipython3",
   "version": "3.11.4"
  }
 },
 "nbformat": 4,
 "nbformat_minor": 5
}
